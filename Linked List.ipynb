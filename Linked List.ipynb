{
 "cells": [
  {
   "cell_type": "code",
   "execution_count": 10,
   "id": "3bf61a94",
   "metadata": {},
   "outputs": [
    {
     "name": "stdout",
     "output_type": "stream",
     "text": [
      "[1, 2, 3]\n",
      "[0, 1, 2, 3]\n",
      "[0, 1, 3]\n",
      "Found\n",
      "not found\n"
     ]
    }
   ],
   "source": [
    "class Node:\n",
    "    def __init__(self,data=None):\n",
    "        self.data = data\n",
    "        self.next = None\n",
    "\n",
    "class LinkedList:\n",
    "    def __init__(self):\n",
    "        self.head = None\n",
    "    \n",
    "    def insert_at_end(self,data):\n",
    "        new_node = Node(data)\n",
    "        if not self.head:\n",
    "            self.head = new_node\n",
    "            return \"added\"\n",
    "        last = self.head\n",
    "        while last.next:\n",
    "            last = last.next\n",
    "        last.next = new_node\n",
    "        \n",
    "    def insert_at_beg(self,data):\n",
    "        new_node = Node(data)\n",
    "        new_node.next = self.head\n",
    "        self.head = new_node\n",
    "        \n",
    "    def delete_node(self,key):\n",
    "        temp = self.head\n",
    "        if temp is not None:\n",
    "            if temp.data == key:\n",
    "                self.head = temp.next\n",
    "                temp = None\n",
    "                return \"deleted\"\n",
    "        while temp is not None:\n",
    "            if temp.data == key:\n",
    "                break\n",
    "            prev = temp\n",
    "            temp = temp.next\n",
    "        if temp == None:\n",
    "            return \"key not found\"\n",
    "        prev.next = temp.next\n",
    "        temp = None\n",
    "    \n",
    "    def search(self,key):\n",
    "        current = self.head\n",
    "        while current:\n",
    "            if current.data == key:\n",
    "                return \"Found\"\n",
    "            current = current.next\n",
    "        return \"not found\"\n",
    "    \n",
    "    def display(self):\n",
    "        elems = []\n",
    "        current_node = self.head\n",
    "        while current_node:\n",
    "            elems.append(current_node.data)\n",
    "            current_node = current_node.next\n",
    "        print(elems)\n",
    "        \n",
    "\n",
    "ll = LinkedList()\n",
    "ll.insert_at_end(1)\n",
    "ll.insert_at_end(2)\n",
    "ll.insert_at_end(3)\n",
    "ll.display()  # Output: [1, 2, 3]\n",
    "\n",
    "ll.insert_at_beg(0)\n",
    "ll.display()  # Output: [0, 1, 2, 3]\n",
    "\n",
    "ll.delete_node(2)\n",
    "ll.display()  # Output: [0, 1, 3]\n",
    "\n",
    "print(ll.search(1))  # Output: True\n",
    "print(ll.search(4))  # Output: False"
   ]
  },
  {
   "cell_type": "code",
   "execution_count": null,
   "id": "656943f5",
   "metadata": {},
   "outputs": [],
   "source": []
  }
 ],
 "metadata": {
  "kernelspec": {
   "display_name": "Python 3 (ipykernel)",
   "language": "python",
   "name": "python3"
  },
  "language_info": {
   "codemirror_mode": {
    "name": "ipython",
    "version": 3
   },
   "file_extension": ".py",
   "mimetype": "text/x-python",
   "name": "python",
   "nbconvert_exporter": "python",
   "pygments_lexer": "ipython3",
   "version": "3.11.5"
  }
 },
 "nbformat": 4,
 "nbformat_minor": 5
}
